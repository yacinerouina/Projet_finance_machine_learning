{
 "cells": [
  {
   "cell_type": "markdown",
   "id": "6ffcbe53",
   "metadata": {},
   "source": [
    "## Projet de machine learning appliqué aux actifs financiers de Retro et Bangala"
   ]
  },
  {
   "cell_type": "code",
   "execution_count": null,
   "id": "c5d6be6c",
   "metadata": {},
   "outputs": [],
   "source": [
    "import yfinance as yf\n",
    "import pandas as pd\n",
    "import numpy as np\n",
    "import matplotlib.pyplot as plt\n",
    "from scipy.stats import skew, kurtosis, norm\n",
    "import pandas as pd\n",
    "from tabulate import tabulate\n",
    "import seaborn as sns\n",
    "from scipy.optimize import minimize"
   ]
  },
  {
   "cell_type": "markdown",
   "id": "31f6092a",
   "metadata": {},
   "source": [
    "# On définit notre intervalle de temps pour l'étude ainsi que la période d'échantillonage"
   ]
  },
  {
   "cell_type": "code",
   "execution_count": 3,
   "id": "33def0ad",
   "metadata": {},
   "outputs": [],
   "source": [
    "# Intervalle de temps pour notre étude \n",
    "\n",
    "start_date = '2024-12-07'\n",
    "end_date = '2024-12-14'\n",
    "interval = '1hour'  # Interval pour la prise de données sur Yahoo Finance notre base de données"
   ]
  },
  {
   "cell_type": "markdown",
   "id": "9278653f",
   "metadata": {},
   "source": [
    "# On va importer les données des actifs qui vont nous intéresser"
   ]
  },
  {
   "cell_type": "code",
   "execution_count": null,
   "id": "51e9bf17",
   "metadata": {},
   "outputs": [],
   "source": [
    "tickers=[]"
   ]
  },
  {
   "cell_type": "code",
   "execution_count": null,
   "id": "52d4a02b",
   "metadata": {},
   "outputs": [],
   "source": [
    "Bangala2"
   ]
  }
 ],
 "metadata": {
  "kernelspec": {
   "display_name": "Python 3 (ipykernel)",
   "language": "python",
   "name": "python3"
  },
  "language_info": {
   "codemirror_mode": {
    "name": "ipython",
    "version": 3
   },
   "file_extension": ".py",
   "mimetype": "text/x-python",
   "name": "python",
   "nbconvert_exporter": "python",
   "pygments_lexer": "ipython3",
   "version": "3.11.5"
  }
 },
 "nbformat": 4,
 "nbformat_minor": 5
}
